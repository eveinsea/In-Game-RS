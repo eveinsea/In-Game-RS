{
 "cells": [
  {
   "cell_type": "code",
   "execution_count": 49,
   "metadata": {
    "collapsed": true
   },
   "outputs": [],
   "source": [
    "import requests, json, os, sys, time, re\n",
    "from datetime import datetime\n",
    "from multiprocessing import Pool\n",
    "from sqlalchemy import *"
   ]
  },
  {
   "cell_type": "code",
   "execution_count": 5,
   "metadata": {
    "collapsed": true
   },
   "outputs": [],
   "source": [
    "def split_list(lst_long,n):\n",
    "    lst_splitted = []\n",
    "    if len(lst_long) % n == 0:\n",
    "        totalBatches = len(lst_long) / n\n",
    "    else:\n",
    "        totalBatches = len(lst_long) / n + 1\n",
    "    for i in xrange(totalBatches):\n",
    "        lst_short = lst_long[i*n:(i+1)*n]\n",
    "        lst_splitted.append(lst_short)\n",
    "    return lst_splitted\n",
    "\n",
    "\n",
    "def show_work_status(singleCount, totalCount, currentCount=0):\n",
    "    currentCount += singleCount\n",
    "    percentage = 1. * currentCount / totalCount * 100\n",
    "    status =  '+' * int(percentage)  + '-' * (100 - int(percentage))\n",
    "    sys.stdout.write('\\rStatus: [{0}] {1:.2f}% '.format(status, percentage))\n",
    "    sys.stdout.flush()\n",
    "    if percentage >= 100:\n",
    "        print '\\n'"
   ]
  },
  {
   "cell_type": "code",
   "execution_count": 10,
   "metadata": {
    "collapsed": true
   },
   "outputs": [],
   "source": [
    "path_user_id = 'data/steam_user_id.txt'\n",
    "with open(path_user_id, 'rb') as f:\n",
    "    lst_user_id = f.readlines()[:50]"
   ]
  },
  {
   "cell_type": "code",
   "execution_count": 27,
   "metadata": {
    "collapsed": false
   },
   "outputs": [],
   "source": [
    "def worker(lst_user_id_temp):\n",
    "    dic_temp = {}\n",
    "    for user_id in lst_user_id_temp:\n",
    "        base_url = 'http://api.steampowered.com/IPlayerService/GetOwnedGames/v0001/'\n",
    "        params = {\n",
    "            'key' : 'D0C62157A8941F12A687382B6D635449',\n",
    "            'steamid' : user_id.strip(),\n",
    "            'format' : 'json' }\n",
    "        r = requests.get(base_url, params = params)\n",
    "        user_inventory = r.json().get('response').get('games')\n",
    "        dic_temp.update({user_id.strip():user_inventory})\n",
    "    return dic_temp"
   ]
  },
  {
   "cell_type": "code",
   "execution_count": 28,
   "metadata": {
    "collapsed": false
   },
   "outputs": [
    {
     "name": "stdout",
     "output_type": "stream",
     "text": [
      "Status: [++++++++++++++++++++++++++++++++++++++++++++++++++++++++++++++++++++++++++++++++++++++++++++++++++++] 100.00% \n",
      "\n"
     ]
    }
   ],
   "source": [
    "p = Pool(2)\n",
    "\n",
    "total_count = len(lst_user_id)\n",
    "current_count = 0\n",
    "show_work_status(0, total_count, current_count)\n",
    "\n",
    "dic_master = {}\n",
    "for i in split_list(lst_user_id,200):\n",
    "    lst_temp_dic = p.map(worker, split_list(i,5))\n",
    "    for x in lst_temp_dic:\n",
    "        dic_master.update(x)\n",
    "    show_work_status(len(i), total_count, current_count)\n",
    "    current_count += len(i)\n",
    "    time.sleep(300)"
   ]
  },
  {
   "cell_type": "code",
   "execution_count": 30,
   "metadata": {
    "collapsed": false
   },
   "outputs": [],
   "source": [
    "with open('data/user_inventory_sample.txt', 'wb') as f:\n",
    "    for user_id, user_inventory in dic_master.items():\n",
    "        f.write(json.dumps({user_id:user_inventory}))\n",
    "        f.write('\\n')"
   ]
  },
  {
   "cell_type": "code",
   "execution_count": null,
   "metadata": {
    "collapsed": true
   },
   "outputs": [],
   "source": []
  },
  {
   "cell_type": "code",
   "execution_count": null,
   "metadata": {
    "collapsed": true
   },
   "outputs": [],
   "source": []
  },
  {
   "cell_type": "code",
   "execution_count": null,
   "metadata": {
    "collapsed": true
   },
   "outputs": [],
   "source": []
  },
  {
   "cell_type": "code",
   "execution_count": 31,
   "metadata": {
    "collapsed": true
   },
   "outputs": [],
   "source": [
    "r = requests.get('http://steamspy.com/api.php?request=all')\n",
    "dic_app_user = r.json()"
   ]
  },
  {
   "cell_type": "code",
   "execution_count": null,
   "metadata": {
    "collapsed": true
   },
   "outputs": [],
   "source": [
    "# with open(path_app_user, 'wb') as f:\n",
    "#     json.dump(dic_app_user, f, indent=2)\n",
    "\n",
    "lst_app_id = dic_app_user.keys()\n",
    "total_count = len(lst_app_id)\n",
    "current_count = 0\n",
    "show_work_status(0, total_count, current_count)\n",
    "\n",
    "\n",
    "with open(path_app_info, 'wb') as f:\n",
    "    for app_id in lst_app_id:\n",
    "        url_app_detail = ('http://store.steampowered.com/api/appdetails?appids=%s') % (app_id)\n",
    "        for i in range(3):\n",
    "            try:\n",
    "                r = requests.get(url_app_detail)\n",
    "                result = r.json()\n",
    "                break\n",
    "            except:\n",
    "                time.sleep(5)\n",
    "                pass\n",
    "        f.write(json.dumps(result))\n",
    "        f.write('\\n')\n",
    "        show_work_status(1, total_count, current_count)\n",
    "        current_count += 1\n",
    "        if current_count % 200 == 0:\n",
    "            time.sleep(300)\n",
    "        else:\n",
    "            time.sleep(.5)"
   ]
  },
  {
   "cell_type": "code",
   "execution_count": 33,
   "metadata": {
    "collapsed": true
   },
   "outputs": [],
   "source": [
    "path_app_detail = 'data/app_detail.txt'"
   ]
  },
  {
   "cell_type": "code",
   "execution_count": null,
   "metadata": {
    "collapsed": false
   },
   "outputs": [
    {
     "name": "stdout",
     "output_type": "stream",
     "text": [
      "Status: [+++++++++++++++++++++++++++++++++++++++++++++++++++++++++++++++++++++++++++++++++++-----------------] 83.73% "
     ]
    }
   ],
   "source": [
    "with open(path_app_detail, 'rb') as f:\n",
    "    dic_steam_app = {'initial_price':{},'name':{},'score':{},'windows':{},'mac':{},'linux':{},'type':{},'release_date':{},'recommendation':{},'header_image':{}}\n",
    "    lst_raw_string = f.readlines()\n",
    "    total_count = len(lst_raw_string)\n",
    "    current_count = 0\n",
    "    show_work_status(0, total_count, current_count)\n",
    "    for raw_string in lst_raw_string:\n",
    "        app_data = json.loads(raw_string).values()[0]\n",
    "        if app_data != {}:\n",
    "            steam_id = app_data.get('steam_appid')\n",
    "            initial_price = app_data.get('price_overview',{}).get('initial')\n",
    "            if app_data.get('is_free') == True:\n",
    "                initial_price = 0\n",
    "            app_name = app_data.get('name')\n",
    "            critic_score = app_data.get('metacritic', {}).get('score')\n",
    "            app_type = app_data.get('type')\n",
    "            for (platform, is_supported) in app_data.get('platforms',{}).items():\n",
    "                if is_supported == True:\n",
    "                    dic_steam_app[platform].update({steam_id:1})\t\n",
    "            if app_data.get('release_date',{}).get('coming_soon') == False:\n",
    "                release_date = app_data.get('release_date',{}).get('date')\n",
    "                if not release_date == '':\n",
    "                    if re.search(',', release_date) == None:\n",
    "                        release_date = datetime.strptime(release_date, '%b %Y')\n",
    "                    else:\n",
    "                        try:\n",
    "                            release_date = datetime.strptime(release_date, '%b %d, %Y')\n",
    "                        except:\n",
    "                            release_date = datetime.strptime(release_date, '%d %b, %Y')\n",
    "\n",
    "            recommendation = app_data.get('recommendations',{}).get('total')\n",
    "            header_image = app_data.get('header_image')\n",
    "            dic_steam_app['initial_price'].update({steam_id:initial_price})\n",
    "            dic_steam_app['name'].update({steam_id:app_name})\n",
    "            dic_steam_app['score'].update({steam_id:critic_score})\n",
    "            dic_steam_app['type'].update({steam_id:app_type})\n",
    "            dic_steam_app['release_date'].update({steam_id:release_date})\n",
    "            dic_steam_app['recommendation'].update({steam_id:recommendation})\n",
    "            dic_steam_app['header_image'].update({steam_id:header_image})\n",
    "        show_work_status(1, total_count, current_count)\n",
    "        current_count += 1"
   ]
  },
  {
   "cell_type": "code",
   "execution_count": 44,
   "metadata": {
    "collapsed": true
   },
   "outputs": [],
   "source": [
    "import pandas as pd\n",
    "\n",
    "df_app_info = pd.DataFrame(dic_steam_app)"
   ]
  },
  {
   "cell_type": "code",
   "execution_count": 47,
   "metadata": {
    "collapsed": false
   },
   "outputs": [
    {
     "data": {
      "text/html": [
       "<div>\n",
       "<table border=\"1\" class=\"dataframe\">\n",
       "  <thead>\n",
       "    <tr style=\"text-align: right;\">\n",
       "      <th></th>\n",
       "      <th>header_image</th>\n",
       "      <th>initial_price</th>\n",
       "      <th>linux</th>\n",
       "      <th>mac</th>\n",
       "      <th>name</th>\n",
       "      <th>recommendation</th>\n",
       "      <th>release_date</th>\n",
       "      <th>score</th>\n",
       "      <th>type</th>\n",
       "      <th>windows</th>\n",
       "    </tr>\n",
       "  </thead>\n",
       "  <tbody>\n",
       "    <tr>\n",
       "      <th>10</th>\n",
       "      <td>http://cdn.akamai.steamstatic.com/steam/apps/1...</td>\n",
       "      <td>999.0</td>\n",
       "      <td>1.0</td>\n",
       "      <td>1.0</td>\n",
       "      <td>Counter-Strike</td>\n",
       "      <td>79848.0</td>\n",
       "      <td>2000-11-01</td>\n",
       "      <td>88.0</td>\n",
       "      <td>game</td>\n",
       "      <td>1.0</td>\n",
       "    </tr>\n",
       "    <tr>\n",
       "      <th>20</th>\n",
       "      <td>http://cdn.akamai.steamstatic.com/steam/apps/2...</td>\n",
       "      <td>499.0</td>\n",
       "      <td>1.0</td>\n",
       "      <td>1.0</td>\n",
       "      <td>Team Fortress Classic</td>\n",
       "      <td>2567.0</td>\n",
       "      <td>1999-04-01</td>\n",
       "      <td>NaN</td>\n",
       "      <td>game</td>\n",
       "      <td>1.0</td>\n",
       "    </tr>\n",
       "    <tr>\n",
       "      <th>30</th>\n",
       "      <td>http://cdn.akamai.steamstatic.com/steam/apps/3...</td>\n",
       "      <td>499.0</td>\n",
       "      <td>1.0</td>\n",
       "      <td>1.0</td>\n",
       "      <td>Day of Defeat</td>\n",
       "      <td>2519.0</td>\n",
       "      <td>2003-05-01</td>\n",
       "      <td>79.0</td>\n",
       "      <td>game</td>\n",
       "      <td>1.0</td>\n",
       "    </tr>\n",
       "    <tr>\n",
       "      <th>40</th>\n",
       "      <td>http://cdn.akamai.steamstatic.com/steam/apps/4...</td>\n",
       "      <td>499.0</td>\n",
       "      <td>1.0</td>\n",
       "      <td>1.0</td>\n",
       "      <td>Deathmatch Classic</td>\n",
       "      <td>929.0</td>\n",
       "      <td>2001-06-01</td>\n",
       "      <td>NaN</td>\n",
       "      <td>game</td>\n",
       "      <td>1.0</td>\n",
       "    </tr>\n",
       "    <tr>\n",
       "      <th>50</th>\n",
       "      <td>http://cdn.akamai.steamstatic.com/steam/apps/5...</td>\n",
       "      <td>499.0</td>\n",
       "      <td>1.0</td>\n",
       "      <td>1.0</td>\n",
       "      <td>Half-Life: Opposing Force</td>\n",
       "      <td>3161.0</td>\n",
       "      <td>1999-11-01</td>\n",
       "      <td>NaN</td>\n",
       "      <td>game</td>\n",
       "      <td>1.0</td>\n",
       "    </tr>\n",
       "  </tbody>\n",
       "</table>\n",
       "</div>"
      ],
      "text/plain": [
       "                                         header_image  initial_price  linux  \\\n",
       "10  http://cdn.akamai.steamstatic.com/steam/apps/1...          999.0    1.0   \n",
       "20  http://cdn.akamai.steamstatic.com/steam/apps/2...          499.0    1.0   \n",
       "30  http://cdn.akamai.steamstatic.com/steam/apps/3...          499.0    1.0   \n",
       "40  http://cdn.akamai.steamstatic.com/steam/apps/4...          499.0    1.0   \n",
       "50  http://cdn.akamai.steamstatic.com/steam/apps/5...          499.0    1.0   \n",
       "\n",
       "    mac                       name  recommendation release_date  score  type  \\\n",
       "10  1.0             Counter-Strike         79848.0   2000-11-01   88.0  game   \n",
       "20  1.0      Team Fortress Classic          2567.0   1999-04-01    NaN  game   \n",
       "30  1.0              Day of Defeat          2519.0   2003-05-01   79.0  game   \n",
       "40  1.0         Deathmatch Classic           929.0   2001-06-01    NaN  game   \n",
       "50  1.0  Half-Life: Opposing Force          3161.0   1999-11-01    NaN  game   \n",
       "\n",
       "    windows  \n",
       "10      1.0  \n",
       "20      1.0  \n",
       "30      1.0  \n",
       "40      1.0  \n",
       "50      1.0  "
      ]
     },
     "execution_count": 47,
     "metadata": {},
     "output_type": "execute_result"
    }
   ],
   "source": [
    "df_app_info.head()"
   ]
  },
  {
   "cell_type": "code",
   "execution_count": 52,
   "metadata": {
    "collapsed": true
   },
   "outputs": [],
   "source": [
    "df_app_info.to_sql('tbl_app_info_test',engine, if_exists='replace')"
   ]
  },
  {
   "cell_type": "code",
   "execution_count": 50,
   "metadata": {
    "collapsed": true
   },
   "outputs": [],
   "source": [
    "engine = create_engine('mysql+pymysql://:@127.0.0.1/game_recommendation?charset=utf8mb4')"
   ]
  },
  {
   "cell_type": "code",
   "execution_count": 53,
   "metadata": {
    "collapsed": true
   },
   "outputs": [],
   "source": [
    "a = engine.execute(\n",
    "    '''\n",
    "    SELECT * FROM tbl_app_info_test LIMIT 5;\n",
    "    ''')"
   ]
  },
  {
   "cell_type": "code",
   "execution_count": 54,
   "metadata": {
    "collapsed": false
   },
   "outputs": [
    {
     "data": {
      "text/plain": [
       "[(10, u'http://cdn.akamai.steamstatic.com/steam/apps/10/header.jpg?t=1447887426', 999.0, 1.0, 1.0, u'Counter-Strike', 79848.0, datetime.datetime(2000, 11, 1, 0, 0), 88.0, u'game', 1.0),\n",
       " (20, u'http://cdn.akamai.steamstatic.com/steam/apps/20/header.jpg?t=1447350811', 499.0, 1.0, 1.0, u'Team Fortress Classic', 2567.0, datetime.datetime(1999, 4, 1, 0, 0), None, u'game', 1.0),\n",
       " (30, u'http://cdn.akamai.steamstatic.com/steam/apps/30/header.jpg?t=1447350812', 499.0, 1.0, 1.0, u'Day of Defeat', 2519.0, datetime.datetime(2003, 5, 1, 0, 0), 79.0, u'game', 1.0),\n",
       " (40, u'http://cdn.akamai.steamstatic.com/steam/apps/40/header.jpg?t=1447350812', 499.0, 1.0, 1.0, u'Deathmatch Classic', 929.0, datetime.datetime(2001, 6, 1, 0, 0), None, u'game', 1.0),\n",
       " (50, u'http://cdn.akamai.steamstatic.com/steam/apps/50/header.jpg?t=1447350813', 499.0, 1.0, 1.0, u'Half-Life: Opposing Force', 3161.0, datetime.datetime(1999, 11, 1, 0, 0), None, u'game', 1.0)]"
      ]
     },
     "execution_count": 54,
     "metadata": {},
     "output_type": "execute_result"
    }
   ],
   "source": [
    "a.fetchall()"
   ]
  },
  {
   "cell_type": "code",
   "execution_count": null,
   "metadata": {
    "collapsed": true
   },
   "outputs": [],
   "source": []
  }
 ],
 "metadata": {
  "anaconda-cloud": {},
  "kernelspec": {
   "display_name": "Python [conda root]",
   "language": "python",
   "name": "conda-root-py"
  },
  "language_info": {
   "codemirror_mode": {
    "name": "ipython",
    "version": 2
   },
   "file_extension": ".py",
   "mimetype": "text/x-python",
   "name": "python",
   "nbconvert_exporter": "python",
   "pygments_lexer": "ipython2",
   "version": "2.7.12"
  }
 },
 "nbformat": 4,
 "nbformat_minor": 1
}
